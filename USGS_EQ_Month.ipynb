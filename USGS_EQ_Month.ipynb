{
 "cells": [
  {
   "cell_type": "code",
   "execution_count": 1,
   "id": "f155df86-1525-48e4-a859-dae498cbe53c",
   "metadata": {},
   "outputs": [],
   "source": [
    "import csv \n",
    "from datetime import datetime\n",
    "from plotly.graph_objs import Scattergeo, Layout\n",
    "from plotly import offline "
   ]
  },
  {
   "cell_type": "code",
   "execution_count": 2,
   "id": "78ff48de-d29f-4d56-8e01-3c0c8a2a44e9",
   "metadata": {},
   "outputs": [
    {
     "name": "stdout",
     "output_type": "stream",
     "text": [
      "['time', 'latitude', 'longitude', 'depth', 'mag', 'magType', 'nst', 'gap', 'dmin', 'rms', 'net', 'id', 'updated', 'place', 'type', 'horizontalError', 'depthError', 'magError', 'magNst', 'status', 'locationSource', 'magSource']\n",
      "0 time\n",
      "1 latitude\n",
      "2 longitude\n",
      "3 depth\n",
      "4 mag\n",
      "5 magType\n",
      "6 nst\n",
      "7 gap\n",
      "8 dmin\n",
      "9 rms\n",
      "10 net\n",
      "11 id\n",
      "12 updated\n",
      "13 place\n",
      "14 type\n",
      "15 horizontalError\n",
      "16 depthError\n",
      "17 magError\n",
      "18 magNst\n",
      "19 status\n",
      "20 locationSource\n",
      "21 magSource\n"
     ]
    }
   ],
   "source": [
    "#Explore the structure of the data\n",
    "filename = '2.5_month.csv' \n",
    "with open(filename) as f: \n",
    "    reader = csv.reader(f) \n",
    "    header_row = next(reader) \n",
    "    print(header_row)\n",
    "    \n",
    "    for index, column_header in enumerate(header_row): \n",
    "        print(index, column_header)\n",
    "        \n",
    "#Extract needed data: magnitudes, dates, and geolocations      \n",
    "    dates, mags, lats, lons, hover_texts = [], [], [], [], [] \n",
    "    for row in reader: \n",
    "        date = datetime.strptime(row[0], '%Y-%m-%dT%H:%M:%S.%fZ')  \n",
    "        mag = float(row[4])\n",
    "        lat = float(row[1])\n",
    "        lon = float(row[2])\n",
    "        title = float(row[4])\n",
    "        dates.append(date)\n",
    "        mags.append(mag)\n",
    "        lats.append(lat) \n",
    "        lons.append(lon)\n",
    "        hover_texts.append(title) "
   ]
  },
  {
   "cell_type": "code",
   "execution_count": 3,
   "id": "7d93fa93-e69f-4df6-b68c-1f98a1e3c596",
   "metadata": {},
   "outputs": [
    {
     "data": {
      "text/plain": [
       "'global_earthquakes.html'"
      ]
     },
     "execution_count": 3,
     "metadata": {},
     "output_type": "execute_result"
    }
   ],
   "source": [
    "#Map the earthquakes\n",
    "data = [{\n",
    "    'type': 'scattergeo', \n",
    "    'lon': lons, \n",
    "    'lat': lats, \n",
    "    'text': hover_texts, \n",
    "    'marker': {\n",
    "        'size': [5*mag for mag in mags], \n",
    "        'color': mags, \n",
    "        'colorscale': 'Reds',\n",
    "        'reversescale': False, \n",
    "        'colorbar': {'title': 'Magnitude'}, \n",
    "    } \n",
    "}] \n",
    "my_layout = Layout(title = 'Global Earthquakes') \n",
    "\n",
    "fig = {'data': data, 'layout': my_layout} \n",
    "offline.plot(fig, filename ='global_earthquakes.html') "
   ]
  },
  {
   "cell_type": "code",
   "execution_count": null,
   "id": "4af7e59e-41f4-47c7-9683-0d8b3fe17522",
   "metadata": {},
   "outputs": [],
   "source": []
  }
 ],
 "metadata": {
  "kernelspec": {
   "display_name": "Python 3 (ipykernel)",
   "language": "python",
   "name": "python3"
  },
  "language_info": {
   "codemirror_mode": {
    "name": "ipython",
    "version": 3
   },
   "file_extension": ".py",
   "mimetype": "text/x-python",
   "name": "python",
   "nbconvert_exporter": "python",
   "pygments_lexer": "ipython3",
   "version": "3.7.4"
  }
 },
 "nbformat": 4,
 "nbformat_minor": 5
}
